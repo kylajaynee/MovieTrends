{
 "cells": [
  {
   "cell_type": "code",
   "execution_count": null,
   "id": "fc48075c-b223-48a1-b6d8-a178707c9e7e",
   "metadata": {
    "tags": []
   },
   "outputs": [],
   "source": [
    "# Import our dependencies\n",
    "from sklearn.model_selection import train_test_split\n",
    "from sklearn.preprocessing import StandardScaler,OneHotEncoder\n",
    "import pandas as pd\n",
    "import tensorflow as tf\n",
    "import os\n"
   ]
  },
  {
   "cell_type": "code",
   "execution_count": null,
   "id": "56f2dbe4-a0d0-42a8-9f28-dffa2365cf7a",
   "metadata": {},
   "outputs": [],
   "source": [
<<<<<<< HEAD
    "#Import 3M and natural disaster data -Add csv names\n",
=======
    "#Import data -Add csv names\n",
>>>>>>> main
    "st_file_path =('.csv')\n",
    "stock_df = pd.read_csv(st_file_path, skiprows=1)\n",
    "file_path = Path('.csv')\n",
    "_df = pd.read_csv(nd_file_path, skiprows=1)"
   ]
  },
  {
   "cell_type": "code",
   "execution_count": null,
   "id": "4da1fc06-faab-4847-ac44-32ab9b8953a1",
   "metadata": {},
   "outputs": [],
   "source": [
    "#set columns"
   ]
  },
  {
   "cell_type": "code",
   "execution_count": null,
   "id": "ffe68008-cef6-47ee-b425-a68b736bdea6",
   "metadata": {},
   "outputs": [],
   "source": [
    "# Drop the null columns where all values are null\n",
    "_df = stock_df.dropna(axis='columns', how='all')\n",
    "_df = stock_df.dropna(axis='columns', how='all')\n",
    "\n",
    "# Drop the null rows\n",
    "stock_df = df.dropna()\n",
    "nd_df = df.dropna()"
   ]
  },
  {
   "cell_type": "code",
   "execution_count": null,
   "id": "b5e4a8f4-01f2-45b4-9b33-34962a45c372",
   "metadata": {},
   "outputs": [],
   "source": [
    "#set X and y for machine learning model\n",
    "X = \"imdb data set\"\n",
    "y= \"merged imdb and ao3 dataset\""
   ]
  },
  {
   "cell_type": "code",
   "execution_count": null,
   "id": "075e06ef-3715-496e-8a9a-34f67b53a3df",
   "metadata": {},
   "outputs": [],
   "source": [
    "from sklearn.model_selection import train_test_split\n",
    "X_train, X_test, y_train, y_test = train_test_split(X, y, random_state=1)"
   ]
  },
  {
   "cell_type": "code",
   "execution_count": null,
   "id": "00293193-c7a4-4e49-a438-643dba048107",
   "metadata": {},
   "outputs": [],
   "source": []
  },
  {
   "cell_type": "code",
   "execution_count": null,
   "id": "9af216eb-b989-4843-8e62-3b0f0aa97ea3",
   "metadata": {},
   "outputs": [],
   "source": [
    "# Calculated the balanced accuracy score\n",
    "from sklearn.metrics import balanced_accuracy_score\n",
    "y_pred = rf_model.predict(X_test)\n",
    "ac_score = balanced_accuracy_score(y_test, y_pred)\n",
    "ac_score"
   ]
  },
  {
   "cell_type": "code",
   "execution_count": null,
   "id": "15df4851-858c-4c63-9365-743bbea96006",
   "metadata": {},
   "outputs": [],
   "source": [
    "# Display the confusion matrix\n",
    "confusion_matrix(y_test, y_pred)"
   ]
  },
  {
   "cell_type": "code",
   "execution_count": null,
   "id": "2e4c7ec9-6e65-4e60-9e74-7c0570fac63a",
   "metadata": {},
   "outputs": [],
   "source": [
    "# Print the imbalanced classification report\n",
    "from imblearn.metrics import classification_report_imbalanced\n",
    "print(classification_report_imbalanced(y_test, y_pred))"
   ]
  },
  {
   "cell_type": "code",
   "execution_count": null,
   "id": "134a686a-56ff-426b-9d2c-fda1853b7b18",
   "metadata": {},
   "outputs": [],
   "source": []
  },
  {
   "cell_type": "code",
   "execution_count": null,
   "id": "3edaab3b-7916-4906-8173-12a6f95d5479",
   "metadata": {},
   "outputs": [],
   "source": []
  },
  {
   "cell_type": "code",
   "execution_count": null,
   "id": "55a00045-4ed1-4ab8-984c-52b2eb922b7d",
   "metadata": {},
   "outputs": [],
   "source": []
  },
  {
   "cell_type": "code",
   "execution_count": null,
   "id": "b6c26ea5-42b0-4e4b-8a5c-542b171b83e0",
   "metadata": {},
   "outputs": [],
   "source": []
  },
  {
   "cell_type": "code",
   "execution_count": null,
   "id": "db345478-94e9-4245-abb8-6d4b4af1b08a",
   "metadata": {
    "tags": []
   },
   "outputs": [],
   "source": []
  },
  {
   "cell_type": "code",
   "execution_count": null,
   "id": "59ea64ae-22eb-4de4-82c1-972126350643",
   "metadata": {},
   "outputs": [],
   "source": []
  }
 ],
 "metadata": {
  "kernelspec": {
   "display_name": "Python 3 (ipykernel)",
   "language": "python",
   "name": "python3"
  },
  "language_info": {
   "codemirror_mode": {
    "name": "ipython",
    "version": 3
   },
   "file_extension": ".py",
   "mimetype": "text/x-python",
   "name": "python",
   "nbconvert_exporter": "python",
   "pygments_lexer": "ipython3",
   "version": "3.7.15"
  }
 },
 "nbformat": 4,
 "nbformat_minor": 5
}
