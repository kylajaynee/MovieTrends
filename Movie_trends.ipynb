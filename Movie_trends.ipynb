{
 "cells": [
  {
   "cell_type": "code",
   "execution_count": 1,
   "id": "b08326ed-9f0f-4e13-baea-3046ce1adea9",
   "metadata": {},
   "outputs": [],
   "source": [
    "import os\n",
    "import pandas as pd\n",
    "import warnings\n",
    "warnings.filterwarnings(\"ignore\")\n",
    "import numpy\n",
    "from langdetect import detect\n",
    "# Python SQL toolkit and Object Relational Mapper\n",
    "import sqlalchemy\n",
    "from sqlalchemy.ext.automap import automap_base\n",
    "from sqlalchemy.orm import Session\n",
    "from sqlalchemy import create_engine, func\n",
    "\n",
    "\n",
    "engine = create_engine(\"sqlite:///movies_dataset/movies.sqlite\", connect_args={'check_same_thread': False})"
   ]
  },
  {
   "cell_type": "code",
   "execution_count": 2,
   "id": "7d473ac4-6eb3-4587-8489-7434946fbdd1",
   "metadata": {
    "tags": []
   },
   "outputs": [],
   "source": [
    "#read in data\n",
    "df = pd.read_csv(\"movies_dataset/movies_dirty.csv\")"
   ]
  },
  {
   "cell_type": "code",
   "execution_count": 3,
   "id": "52006d0d-08a6-4e52-bdab-3975c301e20e",
   "metadata": {
    "tags": []
   },
   "outputs": [],
   "source": [
    "#Filter data from 2010 - 2016 (AO3 start date and end date of movie data\n",
    "df[\"year\"] = df[\"year\"].loc[df[\"year\"] >= 2010]"
   ]
  },
  {
   "cell_type": "code",
   "execution_count": 4,
   "id": "69d48df8-0daa-4679-bbc0-944fc1c5081c",
   "metadata": {
    "tags": []
   },
   "outputs": [],
   "source": [
    "# drop NA\n",
    "df = df.dropna()\n",
    "#df"
   ]
  },
  {
   "cell_type": "code",
   "execution_count": 5,
   "id": "37ffc509-55a2-464d-a3f8-c6a2be3124ad",
   "metadata": {
    "tags": []
   },
   "outputs": [
    {
     "data": {
      "text/plain": [
       "name         object\n",
       "rating       object\n",
       "genre        object\n",
       "year          int32\n",
       "released     object\n",
       "score       float64\n",
       "votes       float64\n",
       "director     object\n",
       "writer       object\n",
       "star         object\n",
       "country      object\n",
       "budget      float64\n",
       "gross       float64\n",
       "company      object\n",
       "runtime     float64\n",
       "dtype: object"
      ]
     },
     "execution_count": 5,
     "metadata": {},
     "output_type": "execute_result"
    }
   ],
   "source": [
    "#set column types\n",
    "df[\"name\"] = df[\"name\"].astype(object)\n",
    "df[\"year\"] = df[\"year\"].astype(int)\n",
    "df.dtypes"
   ]
  },
  {
   "cell_type": "code",
   "execution_count": 6,
   "id": "ee19123c-d963-429d-8bd3-fa82276ed2a3",
   "metadata": {
    "tags": []
   },
   "outputs": [],
   "source": [
    "# Create and format movie_tag column to match data from AO3\n",
    "df[\"movie_tag\"] = df[\"name\"] + \" (\" + df[\"year\"].astype(\"string\") + \")\"\n",
    "#df"
   ]
  },
  {
   "cell_type": "code",
   "execution_count": 7,
   "id": "bf588ca3-b1e4-4771-9d74-b9b8a91339f0",
   "metadata": {},
   "outputs": [],
   "source": [
    "# Save clean table\n",
    "df.to_csv(\"movies_dataset/movie_clean.csv\")"
   ]
  },
  {
   "cell_type": "markdown",
   "id": "e7dc0147-e0c8-442d-a724-b4dfa8afcd66",
   "metadata": {},
   "source": [
    "#Imports for scraping datta\n",
    "from splinter import Browser\n",
    "from bs4 import BeautifulSoup as soup\n",
    "from webdriver_manager.chrome import ChromeDriverManager"
   ]
  },
  {
   "cell_type": "markdown",
   "id": "df0d5de1-a610-4280-99f1-7b6e14260019",
   "metadata": {
    "jupyter": {
     "outputs_hidden": true
    },
    "tags": []
   },
   "source": [
    "# Set up Splinter\n",
    "executable_path = {'executable_path': ChromeDriverManager().install()}\n",
    "browser = Browser('chrome', **executable_path, headless=False)\n",
    "# Scrape site and Parse the HTML\n",
    "url = 'https://archiveofourown.org/media/Movies/fandoms'\n",
    "browser.visit(url)\n",
    "html = browser.html\n",
    "html_soup = soup(html, 'html.parser')\n",
    "# Scrape the number of fics written\n",
    "title = []\n",
    "tags_group = html_soup.find('ol', class_='alphabet fandom index group')\n",
    "tags = tags_group.find_all(\"a\", class_=\"tag\")\n",
    "amount = tags_group.find_all(\"li\")\n",
    "#print(tags_group)\n",
    "for tag in tags:\n",
    "    print(tag.text)\n",
    "    title.append(tag.text)\n",
    "    \n",
    "    \n",
    "# AO3 data list\n",
    "list_ = []\n",
    "for i in amount:\n",
    "    print(i.text)\n",
    "    list_.append(i.text)\n",
    "    \n",
    "    \n",
    "# Scrape AO3\n",
    "lists = []\n",
    "tags = html_soup.find_all('ul', class_= \"tags index group\")\n",
    "for tag in tags:\n",
    "    print(tag.text)\n",
    "    list_.append(tag.text)"
   ]
  },
  {
   "cell_type": "markdown",
   "id": "552e836a-5573-4bd0-9516-a3dad1589910",
   "metadata": {
    "tags": []
   },
   "source": [
    "browser.quit()"
   ]
  },
  {
   "cell_type": "markdown",
   "id": "b0b43282-45fb-43c0-bd00-8caf365bdfe6",
   "metadata": {
    "tags": []
   },
   "source": [
    "# Creating DataFrame for A03 \n",
    "tag_df = pd.DataFrame(list_, columns=[\"movie_tag\"])\n",
    "\n",
    "# Save data\n",
    "tag_df.to_csv(\"movies_dataset/ao3_dirty.csv\")"
   ]
  },
  {
   "cell_type": "code",
   "execution_count": 8,
   "id": "c77eec3d-6f4f-4f45-a816-a944b9eff1a2",
   "metadata": {},
   "outputs": [
    {
     "data": {
      "text/html": [
       "<div>\n",
       "<style scoped>\n",
       "    .dataframe tbody tr th:only-of-type {\n",
       "        vertical-align: middle;\n",
       "    }\n",
       "\n",
       "    .dataframe tbody tr th {\n",
       "        vertical-align: top;\n",
       "    }\n",
       "\n",
       "    .dataframe thead th {\n",
       "        text-align: right;\n",
       "    }\n",
       "</style>\n",
       "<table border=\"1\" class=\"dataframe\">\n",
       "  <thead>\n",
       "    <tr style=\"text-align: right;\">\n",
       "      <th></th>\n",
       "      <th>movie_tag</th>\n",
       "    </tr>\n",
       "  </thead>\n",
       "  <tbody>\n",
       "    <tr>\n",
       "      <th>0</th>\n",
       "      <td>\\n\\n          0\\n          \\n↑\\n\\n\\n\\n\\n00 Sch...</td>\n",
       "    </tr>\n",
       "    <tr>\n",
       "      <th>1</th>\n",
       "      <td>\\n00 Schneider - Jagd auf Nihil Baxter (1994)\\...</td>\n",
       "    </tr>\n",
       "    <tr>\n",
       "      <th>2</th>\n",
       "      <td>\\n\\n          1\\n          \\n↑\\n\\n\\n\\n\\n1 Per ...</td>\n",
       "    </tr>\n",
       "    <tr>\n",
       "      <th>3</th>\n",
       "      <td>\\n1 Per Cent | Outlaws (Australia Movie 2017)\\...</td>\n",
       "    </tr>\n",
       "    <tr>\n",
       "      <th>4</th>\n",
       "      <td>\\n10 Cloverfield Lane (2016)\\n                ...</td>\n",
       "    </tr>\n",
       "    <tr>\n",
       "      <th>...</th>\n",
       "      <td>...</td>\n",
       "    </tr>\n",
       "    <tr>\n",
       "      <th>10300</th>\n",
       "      <td>\\n\\nV for Vendetta - All Media Types\\n        ...</td>\n",
       "    </tr>\n",
       "    <tr>\n",
       "      <th>10301</th>\n",
       "      <td>\\n\\nW pustyni i w puszczy | In Desert and Wild...</td>\n",
       "    </tr>\n",
       "    <tr>\n",
       "      <th>10302</th>\n",
       "      <td>\\n\\nX (Movie 2022)\\n                (9)\\n     ...</td>\n",
       "    </tr>\n",
       "    <tr>\n",
       "      <th>10303</th>\n",
       "      <td>\\n\\nY tu mamá también (2001)\\n                ...</td>\n",
       "    </tr>\n",
       "    <tr>\n",
       "      <th>10304</th>\n",
       "      <td>\\n\\nZ (2019 Christensen)\\n                (1)\\...</td>\n",
       "    </tr>\n",
       "  </tbody>\n",
       "</table>\n",
       "<p>10305 rows × 1 columns</p>\n",
       "</div>"
      ],
      "text/plain": [
       "                                               movie_tag\n",
       "0      \\n\\n          0\\n          \\n↑\\n\\n\\n\\n\\n00 Sch...\n",
       "1      \\n00 Schneider - Jagd auf Nihil Baxter (1994)\\...\n",
       "2      \\n\\n          1\\n          \\n↑\\n\\n\\n\\n\\n1 Per ...\n",
       "3      \\n1 Per Cent | Outlaws (Australia Movie 2017)\\...\n",
       "4      \\n10 Cloverfield Lane (2016)\\n                ...\n",
       "...                                                  ...\n",
       "10300  \\n\\nV for Vendetta - All Media Types\\n        ...\n",
       "10301  \\n\\nW pustyni i w puszczy | In Desert and Wild...\n",
       "10302  \\n\\nX (Movie 2022)\\n                (9)\\n     ...\n",
       "10303  \\n\\nY tu mamá también (2001)\\n                ...\n",
       "10304  \\n\\nZ (2019 Christensen)\\n                (1)\\...\n",
       "\n",
       "[10305 rows x 1 columns]"
      ]
     },
     "execution_count": 8,
     "metadata": {},
     "output_type": "execute_result"
    }
   ],
   "source": [
    "#read in data\n",
    "tag_df = pd.read_csv(\"movies_dataset/ao3_dirty.csv\", index_col=0)\n",
    "tag_df"
   ]
  },
  {
   "cell_type": "code",
   "execution_count": 9,
   "id": "9d13b1b4-5f9c-44b4-a3b9-ed0e4c2d576a",
   "metadata": {},
   "outputs": [
    {
     "data": {
      "text/html": [
       "<div>\n",
       "<style scoped>\n",
       "    .dataframe tbody tr th:only-of-type {\n",
       "        vertical-align: middle;\n",
       "    }\n",
       "\n",
       "    .dataframe tbody tr th {\n",
       "        vertical-align: top;\n",
       "    }\n",
       "\n",
       "    .dataframe thead th {\n",
       "        text-align: right;\n",
       "    }\n",
       "</style>\n",
       "<table border=\"1\" class=\"dataframe\">\n",
       "  <thead>\n",
       "    <tr style=\"text-align: right;\">\n",
       "      <th></th>\n",
       "      <th>movie_tag</th>\n",
       "      <th>fan_fic</th>\n",
       "    </tr>\n",
       "  </thead>\n",
       "  <tbody>\n",
       "    <tr>\n",
       "      <th>0</th>\n",
       "      <td>0          ↑00 Schneider - Jagd auf ...</td>\n",
       "      <td>1</td>\n",
       "    </tr>\n",
       "    <tr>\n",
       "      <th>1</th>\n",
       "      <td>00 Schneider - Jagd auf Nihil Baxter (1994)</td>\n",
       "      <td>1</td>\n",
       "    </tr>\n",
       "    <tr>\n",
       "      <th>2</th>\n",
       "      <td>1          ↑1 Per Cent | Outlaws (Au...</td>\n",
       "      <td>2</td>\n",
       "    </tr>\n",
       "    <tr>\n",
       "      <th>3</th>\n",
       "      <td>1 Per Cent | Outlaws (Australia Movie 2017)</td>\n",
       "      <td>2</td>\n",
       "    </tr>\n",
       "    <tr>\n",
       "      <th>4</th>\n",
       "      <td>10 Cloverfield Lane (2016)</td>\n",
       "      <td>13</td>\n",
       "    </tr>\n",
       "  </tbody>\n",
       "</table>\n",
       "</div>"
      ],
      "text/plain": [
       "                                           movie_tag  fan_fic\n",
       "0            0          ↑00 Schneider - Jagd auf ...        1\n",
       "1        00 Schneider - Jagd auf Nihil Baxter (1994)        1\n",
       "2            1          ↑1 Per Cent | Outlaws (Au...        2\n",
       "3        1 Per Cent | Outlaws (Australia Movie 2017)        2\n",
       "4                         10 Cloverfield Lane (2016)       13"
      ]
     },
     "execution_count": 9,
     "metadata": {},
     "output_type": "execute_result"
    }
   ],
   "source": [
    "#clean data\n",
    "tag_df[\"movie_tag\"] = tag_df[\"movie_tag\"].str.replace(\"\\n\", \"\")\n",
    "tag_df = tag_df[\"movie_tag\"].str.rsplit(n=1, expand=True)\n",
    "tag_df.rename(columns={0:'movie_tag', 1:'fan_fic'}, inplace=True)\n",
    "tag_df[\"fan_fic\"] = tag_df[\"fan_fic\"].str.strip(\"(\"\")\")\n",
    "tag_df[\"fan_fic\"] = tag_df[\"fan_fic\"].astype(int)\n",
    "tag_df.head()"
   ]
  },
  {
   "cell_type": "code",
   "execution_count": 10,
   "id": "4cfd93ea-ba47-4f74-9d94-c27367e3e3c7",
   "metadata": {
    "tags": []
   },
   "outputs": [],
   "source": [
    "# Filter english only titles\n",
    "def d_tect(x):\n",
    "    try:\n",
    "        ans=detect(x)\n",
    "    except:\n",
    "        ans='en'\n",
    "    return ans\n",
    "\n",
    "tag_df[\"lang\"] = tag_df[\"movie_tag\"].apply(d_tect)\n",
    "tag_df = tag_df[tag_df[\"lang\"]==\"en\"]"
   ]
  },
  {
   "cell_type": "code",
   "execution_count": 11,
   "id": "297d8920-9908-4073-b14c-1aeda0d40683",
   "metadata": {
    "tags": []
   },
   "outputs": [
    {
     "data": {
      "text/html": [
       "<div>\n",
       "<style scoped>\n",
       "    .dataframe tbody tr th:only-of-type {\n",
       "        vertical-align: middle;\n",
       "    }\n",
       "\n",
       "    .dataframe tbody tr th {\n",
       "        vertical-align: top;\n",
       "    }\n",
       "\n",
       "    .dataframe thead th {\n",
       "        text-align: right;\n",
       "    }\n",
       "</style>\n",
       "<table border=\"1\" class=\"dataframe\">\n",
       "  <thead>\n",
       "    <tr style=\"text-align: right;\">\n",
       "      <th></th>\n",
       "      <th>movie_tag</th>\n",
       "      <th>fan_fic</th>\n",
       "    </tr>\n",
       "  </thead>\n",
       "  <tbody>\n",
       "    <tr>\n",
       "      <th>0</th>\n",
       "      <td>1          ↑1 Per Cent | Outlaws (Au...</td>\n",
       "      <td>2</td>\n",
       "    </tr>\n",
       "    <tr>\n",
       "      <th>1</th>\n",
       "      <td>1 Per Cent | Outlaws (Australia Movie 2017)</td>\n",
       "      <td>2</td>\n",
       "    </tr>\n",
       "    <tr>\n",
       "      <th>2</th>\n",
       "      <td>10 Cloverfield Lane (2016)</td>\n",
       "      <td>13</td>\n",
       "    </tr>\n",
       "    <tr>\n",
       "      <th>3</th>\n",
       "      <td>10 Things I Hate About You (1999)</td>\n",
       "      <td>136</td>\n",
       "    </tr>\n",
       "    <tr>\n",
       "      <th>4</th>\n",
       "      <td>The 10 Year Plan (2014)</td>\n",
       "      <td>5</td>\n",
       "    </tr>\n",
       "    <tr>\n",
       "      <th>...</th>\n",
       "      <td>...</td>\n",
       "      <td>...</td>\n",
       "    </tr>\n",
       "    <tr>\n",
       "      <th>6207</th>\n",
       "      <td>V for Vendetta - All Media Types              ...</td>\n",
       "      <td>12</td>\n",
       "    </tr>\n",
       "    <tr>\n",
       "      <th>6208</th>\n",
       "      <td>W pustyni i w puszczy | In Desert and Wilderne...</td>\n",
       "      <td>3</td>\n",
       "    </tr>\n",
       "    <tr>\n",
       "      <th>6209</th>\n",
       "      <td>X (Movie 2022)                (9)            X...</td>\n",
       "      <td>93</td>\n",
       "    </tr>\n",
       "    <tr>\n",
       "      <th>6210</th>\n",
       "      <td>Y tu mamá también (2001)                (27)  ...</td>\n",
       "      <td>1</td>\n",
       "    </tr>\n",
       "    <tr>\n",
       "      <th>6211</th>\n",
       "      <td>Z (2019 Christensen)                (1)       ...</td>\n",
       "      <td>1</td>\n",
       "    </tr>\n",
       "  </tbody>\n",
       "</table>\n",
       "<p>6212 rows × 2 columns</p>\n",
       "</div>"
      ],
      "text/plain": [
       "                                              movie_tag  fan_fic\n",
       "0               1          ↑1 Per Cent | Outlaws (Au...        2\n",
       "1           1 Per Cent | Outlaws (Australia Movie 2017)        2\n",
       "2                            10 Cloverfield Lane (2016)       13\n",
       "3                     10 Things I Hate About You (1999)      136\n",
       "4                               The 10 Year Plan (2014)        5\n",
       "...                                                 ...      ...\n",
       "6207  V for Vendetta - All Media Types              ...       12\n",
       "6208  W pustyni i w puszczy | In Desert and Wilderne...        3\n",
       "6209  X (Movie 2022)                (9)            X...       93\n",
       "6210  Y tu mamá también (2001)                (27)  ...        1\n",
       "6211  Z (2019 Christensen)                (1)       ...        1\n",
       "\n",
       "[6212 rows x 2 columns]"
      ]
     },
     "execution_count": 11,
     "metadata": {},
     "output_type": "execute_result"
    }
   ],
   "source": [
    "#reset index and drop lang column\n",
    "tag_df.drop(\"lang\", axis=1).reset_index(drop=True)"
   ]
  },
  {
   "cell_type": "code",
   "execution_count": 12,
   "id": "1bdf5ade-b328-4f4d-a627-c28b99c71f38",
   "metadata": {},
   "outputs": [],
   "source": [
    "# save to csv\n",
    "tag_df.to_csv(\"movies_dataset/tag_clean.csv\")"
   ]
  },
  {
   "cell_type": "code",
   "execution_count": 13,
   "id": "2dd79914-a4c5-4114-9fd1-62ca4c729cc6",
   "metadata": {},
   "outputs": [],
   "source": [
    "# Send to sqlite\n",
    "\n",
    "#tag_df.to_sql('tag', con=engine)\n",
    "#df.to_sql('movie', con=engine)"
   ]
  },
  {
   "cell_type": "code",
   "execution_count": null,
   "id": "61412c7b-2b80-4ec0-afff-eb49450ae707",
   "metadata": {},
   "outputs": [],
   "source": []
  },
  {
   "cell_type": "code",
   "execution_count": 17,
   "id": "ac6844db-20dc-4bae-b2a2-e033c5cdc3e4",
   "metadata": {},
   "outputs": [],
   "source": [
    "merged_inner = pd.merge(left=df, right=tag_df, left_on='movie_tag', right_on='movie_tag')\n",
    "merged_inner.drop([\"name\", \"rating\", \"year\", \"released\", \"director\", \"writer\", \"star\", \"country\", \"budget\", \"gross\", \"company\", \"runtime\", \"lang\"], axis=1)\n",
    "merged_inner.to_csv(\"movies_dataset/clean.csv\")"
   ]
  },
  {
   "cell_type": "code",
   "execution_count": null,
   "id": "b1a3c0a4-4b6c-4164-adb8-b6b4f41666e7",
   "metadata": {},
   "outputs": [],
   "source": []
  }
 ],
 "metadata": {
  "kernelspec": {
   "display_name": "mlenv",
   "language": "python",
   "name": "mlenv"
  },
  "language_info": {
   "codemirror_mode": {
    "name": "ipython",
    "version": 3
   },
   "file_extension": ".py",
   "mimetype": "text/x-python",
   "name": "python",
   "nbconvert_exporter": "python",
   "pygments_lexer": "ipython3",
   "version": "3.7.16"
  }
 },
 "nbformat": 4,
 "nbformat_minor": 5
}
